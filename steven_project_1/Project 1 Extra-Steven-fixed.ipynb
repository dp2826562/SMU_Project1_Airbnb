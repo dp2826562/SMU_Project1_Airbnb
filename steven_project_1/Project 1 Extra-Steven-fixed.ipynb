{
 "cells": [
  {
   "cell_type": "code",
   "execution_count": null,
   "id": "721f1f20",
   "metadata": {},
   "outputs": [],
   "source": [
    "# Dependencies and Setup\n",
    "import matplotlib.pyplot as plt\n",
    "import matplotlib.ticker as ticker\n",
    "import pandas as pd\n",
    "import numpy as np\n",
    "import seaborn as sns\n",
    "\n",
    "# linear modelling\n",
    "import scipy.stats as st\n",
    "import statsmodels.api as sm\n",
    "from scipy import stats\n",
    "from scipy.stats import linregress\n",
    "from sklearn.linear_model import LinearRegression, Ridge, Lasso\n",
    "from sklearn.ensemble import RandomForestRegressor\n",
    "\n",
    "# metrics\n",
    "from sklearn.metrics import r2_score\n",
    "from sklearn.metrics import mean_squared_error\n",
    "\n",
    "# Census API Key\n",
    "from census import Census\n",
    "from config import api_key\n",
    "c = Census(api_key, year=2017)"
   ]
  },
  {
   "cell_type": "code",
   "execution_count": null,
   "id": "20365aa0",
   "metadata": {},
   "outputs": [],
   "source": [
    "df=pd.read_csv(\"Airbnb_Texas_Rentals.csv\")\n",
    "df"
   ]
  },
  {
   "cell_type": "code",
   "execution_count": null,
   "id": "1a57c0e3",
   "metadata": {},
   "outputs": [],
   "source": [
    "df.info()"
   ]
  },
  {
   "cell_type": "code",
   "execution_count": null,
   "id": "d8b9caee",
   "metadata": {},
   "outputs": [],
   "source": [
    "df.count()"
   ]
  },
  {
   "cell_type": "code",
   "execution_count": null,
   "id": "b825cf67",
   "metadata": {},
   "outputs": [],
   "source": [
    "clean_df = df.dropna()\n",
    "clean_df.info()"
   ]
  },
  {
   "cell_type": "code",
   "execution_count": null,
   "id": "b86566c2",
   "metadata": {},
   "outputs": [],
   "source": [
    "# summary data frame\n",
    "clean_df2 = clean_df.loc[:, [\"city\", \"date_of_listing\", \"bedrooms_count\", \"average_rate_per_night\", \"latitude\", \"longitude\"]]\n",
    "clean_df2"
   ]
  },
  {
   "cell_type": "code",
   "execution_count": null,
   "id": "4ec7d01b",
   "metadata": {},
   "outputs": [],
   "source": [
    "clean_df2.info()"
   ]
  },
  {
   "cell_type": "markdown",
   "id": "6e7f586f",
   "metadata": {},
   "source": [
    "# Data Cleaning"
   ]
  },
  {
   "cell_type": "code",
   "execution_count": null,
   "id": "136c1252",
   "metadata": {},
   "outputs": [],
   "source": [
    "clean_df2[\"date_of_listing\"]=pd.to_datetime(clean_df2[\"date_of_listing\"])\n",
    "\n",
    "clean_df2.info()"
   ]
  },
  {
   "cell_type": "code",
   "execution_count": null,
   "id": "e50bdcaa",
   "metadata": {},
   "outputs": [],
   "source": [
    "clean_df2[\"year\"]=[x.year for x in clean_df2.date_of_listing]\n",
    "clean_df2.head()"
   ]
  },
  {
   "cell_type": "code",
   "execution_count": null,
   "id": "adafd937",
   "metadata": {},
   "outputs": [],
   "source": [
    "unique_year = clean_df2[\"year\"].nunique()\n",
    "unique_year"
   ]
  },
  {
   "cell_type": "code",
   "execution_count": null,
   "id": "735896f9",
   "metadata": {},
   "outputs": [],
   "source": [
    "clean_df2[\"month\"]=[x.month for x in clean_df2.date_of_listing]\n",
    "clean_df2.head()"
   ]
  },
  {
   "cell_type": "code",
   "execution_count": null,
   "id": "eec82862",
   "metadata": {},
   "outputs": [],
   "source": [
    "clean_df2.info()"
   ]
  },
  {
   "cell_type": "code",
   "execution_count": null,
   "id": "0c079143",
   "metadata": {},
   "outputs": [],
   "source": [
    "# mask1 = clean_df2.loc[clean_df2['year']==2012].index\n",
    "# mask2 = clean_df2.loc[clean_df2['year']==2011].index\n",
    "# mask3 = clean_df2.loc[clean_df2['year']==2010].index\n",
    "# mask4 = clean_df2.loc[clean_df2['year']==2009].index\n",
    "# mask5 = clean_df2.loc[clean_df2['year']==2008].index"
   ]
  },
  {
   "cell_type": "code",
   "execution_count": null,
   "id": "8b1ea9e7",
   "metadata": {},
   "outputs": [],
   "source": [
    "# mask1.array"
   ]
  },
  {
   "cell_type": "code",
   "execution_count": null,
   "id": "903a99a2",
   "metadata": {
    "scrolled": true
   },
   "outputs": [],
   "source": [
    "clean_df3 = clean_df2[~(clean_df2.year.isin([2012, 2011, 2010, 2009, 2008]))].reset_index()\n",
    "clean_df3.head()"
   ]
  },
  {
   "cell_type": "code",
   "execution_count": null,
   "id": "388db8b7",
   "metadata": {
    "scrolled": true
   },
   "outputs": [],
   "source": [
    "clean_df3.info()"
   ]
  },
  {
   "cell_type": "code",
   "execution_count": null,
   "id": "5d6d0a34",
   "metadata": {},
   "outputs": [],
   "source": [
    "# Create the bins in which Data will be held\n",
    "# Bins are  12-1-2016, 7-1-2016, 1-1-2018\n",
    "bins = [0, 3, 6, 9, 12]\n",
    "\n",
    "# Create the names for the five bins\n",
    "group_names = [\"First\", \"Second\", \"Third\", \"Fourth\"]"
   ]
  },
  {
   "cell_type": "code",
   "execution_count": null,
   "id": "d8584f7a",
   "metadata": {},
   "outputs": [],
   "source": [
    "clean_df3[\"Date_Quarter\"] = pd.cut(clean_df3[\"month\"], bins, labels=group_names, include_lowest=True)\n",
    "clean_df3"
   ]
  },
  {
   "cell_type": "code",
   "execution_count": null,
   "id": "12596fea",
   "metadata": {},
   "outputs": [],
   "source": [
    "# summary data frame\n",
    "clean_df4 = clean_df3.loc[:, [\"city\", \"year\", \"Date_Quarter\", \"bedrooms_count\", \"average_rate_per_night\", \"latitude\", \"longitude\"]]\n",
    "clean_df4.head()"
   ]
  },
  {
   "cell_type": "code",
   "execution_count": null,
   "id": "b1427683",
   "metadata": {},
   "outputs": [],
   "source": [
    "from geopy.geocoders import Nominatim\n",
    "geolocator = Nominatim(user_agent=\"http\")"
   ]
  },
  {
   "cell_type": "code",
   "execution_count": null,
   "id": "03b2b98f",
   "metadata": {},
   "outputs": [],
   "source": [
    "location = geolocator.reverse(\"30.020138, -95.293996\")\n",
    "location.raw"
   ]
  },
  {
   "cell_type": "code",
   "execution_count": null,
   "id": "69659991",
   "metadata": {},
   "outputs": [],
   "source": [
    "# counties = []\n",
    "# zipcodes = []\n",
    "\n",
    "# for indx,row in clean_df4.iterrows():\n",
    "#     lat=row[\"latitude\"]\n",
    "#     lon=row[\"longitude\"]\n",
    "#     location = geolocator.reverse(f\"{lat}, {lon}\", timeout=None)\n",
    "    \n",
    "#     county = location.raw[\"address\"].get(\"county\")\n",
    "#     zipcode = location.raw[\"address\"].get(\"postcode\")\n",
    "#     counties.append(county)\n",
    "#     zipcodes.append(zipcode)\n",
    "\n",
    "#     if indx % 100==0:\n",
    "#         print(indx)\n",
    "    "
   ]
  },
  {
   "cell_type": "code",
   "execution_count": null,
   "id": "56908860",
   "metadata": {},
   "outputs": [],
   "source": [
    "# len(counties)"
   ]
  },
  {
   "cell_type": "code",
   "execution_count": null,
   "id": "07e63b9b",
   "metadata": {},
   "outputs": [],
   "source": [
    "# clean_df4.head()\n"
   ]
  },
  {
   "cell_type": "code",
   "execution_count": null,
   "id": "497053ff",
   "metadata": {},
   "outputs": [],
   "source": [
    "# len(zipcodes)"
   ]
  },
  {
   "cell_type": "code",
   "execution_count": null,
   "id": "0a1c92cd",
   "metadata": {},
   "outputs": [],
   "source": [
    "# counties"
   ]
  },
  {
   "cell_type": "code",
   "execution_count": null,
   "id": "91dcf40d",
   "metadata": {
    "scrolled": true
   },
   "outputs": [],
   "source": [
    "# clean_df4['counties'] = counties\n",
    "# clean_df4['zipcodes'] = zipcodes\n",
    "# clean_df4"
   ]
  },
  {
   "cell_type": "code",
   "execution_count": null,
   "id": "20bb557e",
   "metadata": {},
   "outputs": [],
   "source": [
    "# # Export file as a CSV, without the Pandas index, but with the header - So we don't have to run the above code every\n",
    "# # time we open the file. \n",
    "# clean_df4.to_csv(\"airbnb_counties.csv\", index=False, header=True)"
   ]
  },
  {
   "cell_type": "code",
   "execution_count": null,
   "id": "0b34ad3b",
   "metadata": {},
   "outputs": [],
   "source": [
    "# read in airbnb_counties csv\n",
    "airbnb_df=pd.read_csv(\"airbnb_counties.csv\")\n",
    "airbnb_df"
   ]
  },
  {
   "cell_type": "code",
   "execution_count": null,
   "id": "9e46cf8a",
   "metadata": {},
   "outputs": [],
   "source": [
    "airbnb_df.info()"
   ]
  },
  {
   "cell_type": "code",
   "execution_count": null,
   "id": "c7379323",
   "metadata": {},
   "outputs": [],
   "source": [
    "# read in census csv\n",
    "census_df=pd.read_csv(\"acs2017_county_data.csv\")\n",
    "census_df.head()"
   ]
  },
  {
   "cell_type": "code",
   "execution_count": null,
   "id": "a4836d4f",
   "metadata": {},
   "outputs": [],
   "source": [
    "# Change 'Studio' room to 0\n",
    "# Change value from object to numeric\n",
    "\n",
    "bedrooms_clean = airbnb_df['bedrooms_count']\n",
    "\n",
    "bedrooms_clean = pd.to_numeric([\"0\" if i=='Studio' else i for i in bedrooms_clean])\n",
    "bedrooms_clean"
   ]
  },
  {
   "cell_type": "code",
   "execution_count": null,
   "id": "709bf800",
   "metadata": {},
   "outputs": [],
   "source": [
    "# Add bedrooms into Data Frame\n",
    "airbnb_df['bedrooms'] = bedrooms_clean\n",
    "airbnb_df"
   ]
  },
  {
   "cell_type": "code",
   "execution_count": null,
   "id": "bdaa5122",
   "metadata": {},
   "outputs": [],
   "source": [
    "airbnb_df.info()"
   ]
  },
  {
   "cell_type": "code",
   "execution_count": null,
   "id": "498b5a70",
   "metadata": {},
   "outputs": [],
   "source": [
    "# Remove $ and convert into integer\n",
    "airbnb_df['average_rate_per_night'] = airbnb_df['average_rate_per_night'].str.replace('$', '').astype(int)\n",
    "airbnb_df"
   ]
  },
  {
   "cell_type": "code",
   "execution_count": null,
   "id": "e00ef60d",
   "metadata": {},
   "outputs": [],
   "source": [
    "rate_mean = airbnb_df.groupby(\"counties\")[\"average_rate_per_night\"].mean()\n",
    "rate_median = airbnb_df.groupby(\"counties\")[\"average_rate_per_night\"].median()\n",
    "bed_mean = airbnb_df.groupby(\"counties\")[\"bedrooms\"].mean()\n",
    "bed_median = airbnb_df.groupby(\"counties\")[\"bedrooms\"].median()\n",
    " \n",
    "    \n",
    "# Assemble the resulting series into a single summary dataframe\n",
    "agg_df = pd.DataFrame({\"airbnb_rate_mean\": rate_mean,\n",
    "                       \"airbnb_rate_median\": rate_median,\n",
    "                       \"airbnb_beds_mean\": bed_mean,\n",
    "                        \"airbnb_beds_median\": bed_median}).reset_index()\n",
    "agg_df"
   ]
  },
  {
   "cell_type": "code",
   "execution_count": null,
   "id": "19833ed7",
   "metadata": {},
   "outputs": [],
   "source": [
    "agg_df.info()"
   ]
  },
  {
   "cell_type": "code",
   "execution_count": null,
   "id": "0c4f8cae",
   "metadata": {},
   "outputs": [],
   "source": [
    "census_tx = census_df.loc[census_df.State == \"Texas\"].reset_index()\n",
    "census_tx.head()"
   ]
  },
  {
   "cell_type": "code",
   "execution_count": null,
   "id": "68bea94e",
   "metadata": {},
   "outputs": [],
   "source": [
    "census_tx.loc[census_tx.County == \"Harris County\"]"
   ]
  },
  {
   "cell_type": "code",
   "execution_count": null,
   "id": "12371949",
   "metadata": {},
   "outputs": [],
   "source": [
    "# summary data frame\n",
    "clean_tx = census_tx.loc[:, [\"County\", \"TotalPop\", \"Income\", \"Poverty\"]]\n",
    "clean_tx.info()"
   ]
  },
  {
   "cell_type": "code",
   "execution_count": null,
   "id": "852401cf",
   "metadata": {},
   "outputs": [],
   "source": [
    "clean_tx = clean_tx.rename(columns = {\"County\":\"counties\"})\n",
    "clean_tx.head()"
   ]
  },
  {
   "cell_type": "code",
   "execution_count": null,
   "id": "4e2a0cf9",
   "metadata": {},
   "outputs": [],
   "source": [
    "clean_tx.loc[census_tx.County == \"Harris County\"]"
   ]
  },
  {
   "cell_type": "code",
   "execution_count": null,
   "id": "0d8c3789",
   "metadata": {},
   "outputs": [],
   "source": [
    "# Merge Airbnb and Census dataframes on counties to show all data\n",
    "clean_tx2 = pd.merge(airbnb_df, clean_tx, on=\"counties\")\n",
    "clean_tx2.head()"
   ]
  },
  {
   "cell_type": "code",
   "execution_count": null,
   "id": "24400863",
   "metadata": {},
   "outputs": [],
   "source": [
    "clean_tx2.info()"
   ]
  },
  {
   "cell_type": "code",
   "execution_count": null,
   "id": "fa2e4871",
   "metadata": {},
   "outputs": [],
   "source": [
    "# Merge census data with aggregation data to show mean/median for counties and nan values for counties with no data\n",
    "# will skip in analysis\n",
    "clean_tx3 = pd.merge(agg_df, clean_tx, on=\"counties\", how='right')\n",
    "clean_tx3.head()"
   ]
  },
  {
   "cell_type": "code",
   "execution_count": null,
   "id": "27626cd6",
   "metadata": {},
   "outputs": [],
   "source": [
    "clean_tx3.info()"
   ]
  },
  {
   "cell_type": "code",
   "execution_count": null,
   "id": "359c50f1",
   "metadata": {},
   "outputs": [],
   "source": [
    "clean_tx4 = clean_tx3.fillna(0)\n",
    "clean_tx4"
   ]
  },
  {
   "cell_type": "code",
   "execution_count": null,
   "id": "c1b31169",
   "metadata": {},
   "outputs": [],
   "source": [
    "# Drop Null valus from table\n",
    "clean_tx5 = clean_tx3.dropna(how='any')\n",
    "clean_tx5"
   ]
  },
  {
   "cell_type": "code",
   "execution_count": null,
   "id": "000c2044",
   "metadata": {},
   "outputs": [],
   "source": [
    "# Make Bins for Rural and Uban \n",
    "\n",
    "bins_1 = [0, 50000, 4600000]\n",
    "\n",
    "# Create the names for the five bins\n",
    "group_names1 = [\"Rural\", \"Urban\"]"
   ]
  },
  {
   "cell_type": "code",
   "execution_count": null,
   "id": "5393bf01",
   "metadata": {},
   "outputs": [],
   "source": [
    "clean_tx2[\"Urban_Rural\"] = pd.cut(clean_tx2[\"TotalPop\"], bins_1, labels=group_names1, include_lowest=True)\n",
    "clean_tx2"
   ]
  },
  {
   "cell_type": "code",
   "execution_count": 235,
   "id": "3b66b9e2",
   "metadata": {},
   "outputs": [
    {
     "name": "stdout",
     "output_type": "stream",
     "text": [
      "<class 'pandas.core.frame.DataFrame'>\n",
      "Int64Index: 16799 entries, 0 to 16798\n",
      "Data columns (total 14 columns):\n",
      " #   Column                  Non-Null Count  Dtype   \n",
      "---  ------                  --------------  -----   \n",
      " 0   city                    16799 non-null  object  \n",
      " 1   year                    16799 non-null  int64   \n",
      " 2   Date_Quarter            16799 non-null  object  \n",
      " 3   bedrooms_count          16799 non-null  object  \n",
      " 4   average_rate_per_night  16799 non-null  int32   \n",
      " 5   latitude                16799 non-null  float64 \n",
      " 6   longitude               16799 non-null  float64 \n",
      " 7   counties                16799 non-null  object  \n",
      " 8   zipcodes                16030 non-null  object  \n",
      " 9   bedrooms                16799 non-null  int64   \n",
      " 10  TotalPop                16799 non-null  int64   \n",
      " 11  Income                  16799 non-null  int64   \n",
      " 12  Poverty                 16799 non-null  float64 \n",
      " 13  Urban_Rural             16799 non-null  category\n",
      "dtypes: category(1), float64(3), int32(1), int64(4), object(5)\n",
      "memory usage: 1.7+ MB\n"
     ]
    }
   ],
   "source": [
    "clean_tx2.info()"
   ]
  },
  {
   "cell_type": "code",
   "execution_count": 236,
   "id": "1ee8d2a9",
   "metadata": {},
   "outputs": [
    {
     "data": {
      "text/html": [
       "<div>\n",
       "<style scoped>\n",
       "    .dataframe tbody tr th:only-of-type {\n",
       "        vertical-align: middle;\n",
       "    }\n",
       "\n",
       "    .dataframe tbody tr th {\n",
       "        vertical-align: top;\n",
       "    }\n",
       "\n",
       "    .dataframe thead th {\n",
       "        text-align: right;\n",
       "    }\n",
       "</style>\n",
       "<table border=\"1\" class=\"dataframe\">\n",
       "  <thead>\n",
       "    <tr style=\"text-align: right;\">\n",
       "      <th></th>\n",
       "      <th>year</th>\n",
       "      <th>average_rate_per_night</th>\n",
       "      <th>latitude</th>\n",
       "      <th>longitude</th>\n",
       "      <th>bedrooms</th>\n",
       "      <th>TotalPop</th>\n",
       "      <th>Income</th>\n",
       "      <th>Poverty</th>\n",
       "    </tr>\n",
       "  </thead>\n",
       "  <tbody>\n",
       "    <tr>\n",
       "      <th>count</th>\n",
       "      <td>16799.000000</td>\n",
       "      <td>16799.000000</td>\n",
       "      <td>16799.000000</td>\n",
       "      <td>16799.000000</td>\n",
       "      <td>16799.000000</td>\n",
       "      <td>1.679900e+04</td>\n",
       "      <td>16799.000000</td>\n",
       "      <td>16799.000000</td>\n",
       "    </tr>\n",
       "    <tr>\n",
       "      <th>mean</th>\n",
       "      <td>2015.414668</td>\n",
       "      <td>213.936484</td>\n",
       "      <td>30.674222</td>\n",
       "      <td>-97.054034</td>\n",
       "      <td>1.780285</td>\n",
       "      <td>1.357302e+06</td>\n",
       "      <td>61148.346330</td>\n",
       "      <td>14.832270</td>\n",
       "    </tr>\n",
       "    <tr>\n",
       "      <th>std</th>\n",
       "      <td>1.153104</td>\n",
       "      <td>424.183393</td>\n",
       "      <td>1.683263</td>\n",
       "      <td>1.338457</td>\n",
       "      <td>1.236139</td>\n",
       "      <td>1.414392e+06</td>\n",
       "      <td>12535.272865</td>\n",
       "      <td>4.705826</td>\n",
       "    </tr>\n",
       "    <tr>\n",
       "      <th>min</th>\n",
       "      <td>2013.000000</td>\n",
       "      <td>10.000000</td>\n",
       "      <td>25.894075</td>\n",
       "      <td>-103.690925</td>\n",
       "      <td>0.000000</td>\n",
       "      <td>2.123000e+03</td>\n",
       "      <td>32135.000000</td>\n",
       "      <td>5.700000</td>\n",
       "    </tr>\n",
       "    <tr>\n",
       "      <th>25%</th>\n",
       "      <td>2015.000000</td>\n",
       "      <td>57.000000</td>\n",
       "      <td>29.680868</td>\n",
       "      <td>-97.817204</td>\n",
       "      <td>1.000000</td>\n",
       "      <td>2.142310e+05</td>\n",
       "      <td>53626.000000</td>\n",
       "      <td>13.200000</td>\n",
       "    </tr>\n",
       "    <tr>\n",
       "      <th>50%</th>\n",
       "      <td>2016.000000</td>\n",
       "      <td>108.000000</td>\n",
       "      <td>30.270060</td>\n",
       "      <td>-97.110965</td>\n",
       "      <td>1.000000</td>\n",
       "      <td>9.140750e+05</td>\n",
       "      <td>57791.000000</td>\n",
       "      <td>13.900000</td>\n",
       "    </tr>\n",
       "    <tr>\n",
       "      <th>75%</th>\n",
       "      <td>2016.000000</td>\n",
       "      <td>220.000000</td>\n",
       "      <td>32.669623</td>\n",
       "      <td>-96.279612</td>\n",
       "      <td>3.000000</td>\n",
       "      <td>1.983675e+06</td>\n",
       "      <td>68350.000000</td>\n",
       "      <td>16.800000</td>\n",
       "    </tr>\n",
       "    <tr>\n",
       "      <th>max</th>\n",
       "      <td>2017.000000</td>\n",
       "      <td>10000.000000</td>\n",
       "      <td>35.256299</td>\n",
       "      <td>-93.771139</td>\n",
       "      <td>13.000000</td>\n",
       "      <td>4.525519e+06</td>\n",
       "      <td>93645.000000</td>\n",
       "      <td>31.200000</td>\n",
       "    </tr>\n",
       "  </tbody>\n",
       "</table>\n",
       "</div>"
      ],
      "text/plain": [
       "               year  average_rate_per_night      latitude     longitude  \\\n",
       "count  16799.000000            16799.000000  16799.000000  16799.000000   \n",
       "mean    2015.414668              213.936484     30.674222    -97.054034   \n",
       "std        1.153104              424.183393      1.683263      1.338457   \n",
       "min     2013.000000               10.000000     25.894075   -103.690925   \n",
       "25%     2015.000000               57.000000     29.680868    -97.817204   \n",
       "50%     2016.000000              108.000000     30.270060    -97.110965   \n",
       "75%     2016.000000              220.000000     32.669623    -96.279612   \n",
       "max     2017.000000            10000.000000     35.256299    -93.771139   \n",
       "\n",
       "           bedrooms      TotalPop        Income       Poverty  \n",
       "count  16799.000000  1.679900e+04  16799.000000  16799.000000  \n",
       "mean       1.780285  1.357302e+06  61148.346330     14.832270  \n",
       "std        1.236139  1.414392e+06  12535.272865      4.705826  \n",
       "min        0.000000  2.123000e+03  32135.000000      5.700000  \n",
       "25%        1.000000  2.142310e+05  53626.000000     13.200000  \n",
       "50%        1.000000  9.140750e+05  57791.000000     13.900000  \n",
       "75%        3.000000  1.983675e+06  68350.000000     16.800000  \n",
       "max       13.000000  4.525519e+06  93645.000000     31.200000  "
      ]
     },
     "execution_count": 236,
     "metadata": {},
     "output_type": "execute_result"
    }
   ],
   "source": [
    "clean_tx2.describe()"
   ]
  },
  {
   "cell_type": "code",
   "execution_count": 238,
   "id": "ab50ee30",
   "metadata": {},
   "outputs": [],
   "source": [
    "def makeHistogram(clean_tx2, column):\n",
    "    plt.figure(figsize= (10,6))\n",
    "    plt.hist(clean_tx2[column])\n",
    "    plt.ylabel('Count')\n",
    "    plt.xlabel(column)\n",
    "    plt.title(f\"{column} Histogram\", fontweight=\"bold\", fontsize=16)\n",
    "    plt.show()"
   ]
  },
  {
   "cell_type": "code",
   "execution_count": null,
   "id": "61661e51",
   "metadata": {},
   "outputs": [],
   "source": [
    "for col in clean_tx2.columns:\n",
    "    makeHistogram(clean_tx2, col)"
   ]
  },
  {
   "cell_type": "code",
   "execution_count": 248,
   "id": "e4363743",
   "metadata": {},
   "outputs": [
    {
     "data": {
      "text/plain": [
       "NormaltestResult(statistic=1205.1888429580863, pvalue=1.9795566102195194e-262)"
      ]
     },
     "execution_count": 248,
     "metadata": {},
     "output_type": "execute_result"
    }
   ],
   "source": [
    "st.normaltest(clean_tx2.Income)"
   ]
  },
  {
   "cell_type": "code",
   "execution_count": null,
   "id": "a8825b14",
   "metadata": {},
   "outputs": [],
   "source": [
    "# Add bin to chart\n",
    "clean_tx4[\"Urban_Rural\"] = pd.cut(clean_tx4[\"TotalPop\"], bins_1, labels=group_names1, include_lowest=True)\n",
    "clean_tx4"
   ]
  },
  {
   "cell_type": "code",
   "execution_count": 247,
   "id": "d0f5135e",
   "metadata": {},
   "outputs": [
    {
     "data": {
      "text/html": [
       "<div>\n",
       "<style scoped>\n",
       "    .dataframe tbody tr th:only-of-type {\n",
       "        vertical-align: middle;\n",
       "    }\n",
       "\n",
       "    .dataframe tbody tr th {\n",
       "        vertical-align: top;\n",
       "    }\n",
       "\n",
       "    .dataframe thead th {\n",
       "        text-align: right;\n",
       "    }\n",
       "</style>\n",
       "<table border=\"1\" class=\"dataframe\">\n",
       "  <thead>\n",
       "    <tr style=\"text-align: right;\">\n",
       "      <th></th>\n",
       "      <th>airbnb_rate_mean</th>\n",
       "      <th>airbnb_rate_median</th>\n",
       "      <th>airbnb_beds_mean</th>\n",
       "      <th>airbnb_beds_median</th>\n",
       "      <th>TotalPop</th>\n",
       "      <th>Income</th>\n",
       "      <th>Poverty</th>\n",
       "    </tr>\n",
       "  </thead>\n",
       "  <tbody>\n",
       "    <tr>\n",
       "      <th>count</th>\n",
       "      <td>254.000000</td>\n",
       "      <td>254.000000</td>\n",
       "      <td>254.000000</td>\n",
       "      <td>254.000000</td>\n",
       "      <td>2.540000e+02</td>\n",
       "      <td>254.000000</td>\n",
       "      <td>254.000000</td>\n",
       "    </tr>\n",
       "    <tr>\n",
       "      <th>mean</th>\n",
       "      <td>89.423411</td>\n",
       "      <td>69.793307</td>\n",
       "      <td>0.852482</td>\n",
       "      <td>0.753937</td>\n",
       "      <td>1.079512e+05</td>\n",
       "      <td>49894.338583</td>\n",
       "      <td>16.335039</td>\n",
       "    </tr>\n",
       "    <tr>\n",
       "      <th>std</th>\n",
       "      <td>141.350116</td>\n",
       "      <td>142.574104</td>\n",
       "      <td>1.163664</td>\n",
       "      <td>1.153909</td>\n",
       "      <td>3.894769e+05</td>\n",
       "      <td>12132.675517</td>\n",
       "      <td>5.943009</td>\n",
       "    </tr>\n",
       "    <tr>\n",
       "      <th>min</th>\n",
       "      <td>0.000000</td>\n",
       "      <td>0.000000</td>\n",
       "      <td>0.000000</td>\n",
       "      <td>0.000000</td>\n",
       "      <td>7.400000e+01</td>\n",
       "      <td>24794.000000</td>\n",
       "      <td>2.800000</td>\n",
       "    </tr>\n",
       "    <tr>\n",
       "      <th>25%</th>\n",
       "      <td>0.000000</td>\n",
       "      <td>0.000000</td>\n",
       "      <td>0.000000</td>\n",
       "      <td>0.000000</td>\n",
       "      <td>7.072500e+03</td>\n",
       "      <td>42326.500000</td>\n",
       "      <td>12.925000</td>\n",
       "    </tr>\n",
       "    <tr>\n",
       "      <th>50%</th>\n",
       "      <td>0.000000</td>\n",
       "      <td>0.000000</td>\n",
       "      <td>0.000000</td>\n",
       "      <td>0.000000</td>\n",
       "      <td>1.861250e+04</td>\n",
       "      <td>48311.000000</td>\n",
       "      <td>16.150000</td>\n",
       "    </tr>\n",
       "    <tr>\n",
       "      <th>75%</th>\n",
       "      <td>166.545700</td>\n",
       "      <td>104.875000</td>\n",
       "      <td>1.688779</td>\n",
       "      <td>1.000000</td>\n",
       "      <td>4.929475e+04</td>\n",
       "      <td>55740.750000</td>\n",
       "      <td>18.700000</td>\n",
       "    </tr>\n",
       "    <tr>\n",
       "      <th>max</th>\n",
       "      <td>1191.666667</td>\n",
       "      <td>1750.000000</td>\n",
       "      <td>7.000000</td>\n",
       "      <td>8.000000</td>\n",
       "      <td>4.525519e+06</td>\n",
       "      <td>93645.000000</td>\n",
       "      <td>41.500000</td>\n",
       "    </tr>\n",
       "  </tbody>\n",
       "</table>\n",
       "</div>"
      ],
      "text/plain": [
       "       airbnb_rate_mean  airbnb_rate_median  airbnb_beds_mean  \\\n",
       "count        254.000000          254.000000        254.000000   \n",
       "mean          89.423411           69.793307          0.852482   \n",
       "std          141.350116          142.574104          1.163664   \n",
       "min            0.000000            0.000000          0.000000   \n",
       "25%            0.000000            0.000000          0.000000   \n",
       "50%            0.000000            0.000000          0.000000   \n",
       "75%          166.545700          104.875000          1.688779   \n",
       "max         1191.666667         1750.000000          7.000000   \n",
       "\n",
       "       airbnb_beds_median      TotalPop        Income     Poverty  \n",
       "count          254.000000  2.540000e+02    254.000000  254.000000  \n",
       "mean             0.753937  1.079512e+05  49894.338583   16.335039  \n",
       "std              1.153909  3.894769e+05  12132.675517    5.943009  \n",
       "min              0.000000  7.400000e+01  24794.000000    2.800000  \n",
       "25%              0.000000  7.072500e+03  42326.500000   12.925000  \n",
       "50%              0.000000  1.861250e+04  48311.000000   16.150000  \n",
       "75%              1.000000  4.929475e+04  55740.750000   18.700000  \n",
       "max              8.000000  4.525519e+06  93645.000000   41.500000  "
      ]
     },
     "execution_count": 247,
     "metadata": {},
     "output_type": "execute_result"
    }
   ],
   "source": [
    "clean_tx4.describe()"
   ]
  },
  {
   "cell_type": "code",
   "execution_count": 252,
   "id": "f9c63246",
   "metadata": {},
   "outputs": [],
   "source": [
    "def makeHistogram(clean_tx4, column):\n",
    "    plt.figure(figsize= (9,5))\n",
    "    plt.hist(clean_tx4[column])\n",
    "    plt.ylabel('Count')\n",
    "    plt.xlabel(column)\n",
    "    plt.title(f\"{column} Histogram\", fontweight=\"bold\", fontsize=16)\n",
    "    plt.show()"
   ]
  },
  {
   "cell_type": "code",
   "execution_count": null,
   "id": "65eb15e8",
   "metadata": {
    "scrolled": false
   },
   "outputs": [],
   "source": [
    "for col in clean_tx4.columns:\n",
    "    makeHistogram(clean_tx4, col)"
   ]
  },
  {
   "cell_type": "code",
   "execution_count": 254,
   "id": "a7378681",
   "metadata": {},
   "outputs": [
    {
     "data": {
      "text/plain": [
       "NormaltestResult(statistic=181.59813527411103, pvalue=3.685241585703303e-40)"
      ]
     },
     "execution_count": 254,
     "metadata": {},
     "output_type": "execute_result"
    }
   ],
   "source": [
    "st.normaltest(clean_tx4.airbnb_rate_mean)"
   ]
  },
  {
   "cell_type": "code",
   "execution_count": 255,
   "id": "77cae356",
   "metadata": {},
   "outputs": [
    {
     "data": {
      "text/plain": [
       "NormaltestResult(statistic=77.63333484832768, pvalue=1.3871886661933713e-17)"
      ]
     },
     "execution_count": 255,
     "metadata": {},
     "output_type": "execute_result"
    }
   ],
   "source": [
    "st.normaltest(clean_tx4.airbnb_beds_mean)"
   ]
  },
  {
   "cell_type": "code",
   "execution_count": null,
   "id": "e92ce979",
   "metadata": {},
   "outputs": [],
   "source": [
    "# Urban Data\n",
    "urban_cleantx_df = clean_tx4.loc[clean_tx4.Urban_Rural == \"Urban\"]\n",
    "urban_cleantx_df"
   ]
  },
  {
   "cell_type": "code",
   "execution_count": null,
   "id": "23be30ad",
   "metadata": {},
   "outputs": [],
   "source": [
    "# Rural data\n",
    "rural_cleantx_df = clean_tx4.loc[clean_tx4.Urban_Rural == \"Rural\"]\n",
    "rural_cleantx_df"
   ]
  },
  {
   "cell_type": "code",
   "execution_count": null,
   "id": "dc7c2f7f",
   "metadata": {},
   "outputs": [],
   "source": [
    "# Urban and rural in the dropped values dataframe\n",
    "clean_tx5[\"Urban_Rural\"] = pd.cut(clean_tx5[\"TotalPop\"], bins_1, labels=group_names1, include_lowest=True)\n",
    "clean_tx5"
   ]
  },
  {
   "cell_type": "code",
   "execution_count": null,
   "id": "da25098a",
   "metadata": {},
   "outputs": [],
   "source": [
    "# Urban Data\n",
    "urban_cleantx_df2 = clean_tx5.loc[clean_tx5.Urban_Rural == \"Urban\"]\n",
    "urban_cleantx_df2.info()"
   ]
  },
  {
   "cell_type": "code",
   "execution_count": null,
   "id": "38f98676",
   "metadata": {},
   "outputs": [],
   "source": [
    "# Rural data\n",
    "rural_cleantx_df2 = clean_tx5.loc[clean_tx5.Urban_Rural == \"Rural\"]\n",
    "rural_cleantx_df2.info()"
   ]
  },
  {
   "cell_type": "markdown",
   "id": "65011a81",
   "metadata": {},
   "source": [
    "# Correlations and Heatmaps"
   ]
  },
  {
   "cell_type": "code",
   "execution_count": null,
   "id": "205e51f9",
   "metadata": {
    "scrolled": true
   },
   "outputs": [],
   "source": [
    "# Correlation between airbnb and census\n",
    "corrs1 = clean_tx2.corr()\n",
    "corrs1"
   ]
  },
  {
   "cell_type": "code",
   "execution_count": null,
   "id": "26530af4",
   "metadata": {},
   "outputs": [],
   "source": [
    "# Correlation between aggregation and census\n",
    "corrs2 = clean_tx3.corr()\n",
    "corrs2"
   ]
  },
  {
   "cell_type": "code",
   "execution_count": null,
   "id": "cc5f0f76",
   "metadata": {},
   "outputs": [],
   "source": [
    "# Correlation between aggregation and census with nan filled as 0\n",
    "corrs3 = clean_tx4.corr()\n",
    "corrs3"
   ]
  },
  {
   "cell_type": "code",
   "execution_count": null,
   "id": "a3203dbf",
   "metadata": {},
   "outputs": [],
   "source": [
    " # Correlation between aggregation and census with null airbnb values dropped\n",
    "corrs_3a = clean_tx5.corr()\n",
    "corrs_3a"
   ]
  },
  {
   "cell_type": "code",
   "execution_count": null,
   "id": "51d6c8df",
   "metadata": {},
   "outputs": [],
   "source": [
    "# Correlation between aggregation and census accounting for urban counties only\n",
    "corrs4 = urban_cleantx_df.corr()\n",
    "corrs4"
   ]
  },
  {
   "cell_type": "code",
   "execution_count": null,
   "id": "189a4c28",
   "metadata": {},
   "outputs": [],
   "source": [
    "# Correlation between aggregation and census accounting for rural counties only\n",
    "corrs5 = rural_cleantx_df.corr()\n",
    "corrs5"
   ]
  },
  {
   "cell_type": "code",
   "execution_count": null,
   "id": "b176e3b2",
   "metadata": {},
   "outputs": [],
   "source": [
    "# Create heatmap for correlation values (must get figure knowledge from examples )\n",
    "plt.figure(figsize=(9,5))\n",
    "sns.heatmap(corrs1)\n",
    "plt.show()\n",
    "    \n",
    "plt.figure(figsize=(9,5))\n",
    "sns.heatmap(corrs2)\n",
    "plt.show()\n",
    "    \n",
    "plt.figure(figsize=(9,5))\n",
    "sns.heatmap(corrs3)\n",
    "plt.show()\n",
    "\n",
    "plt.figure(figsize=(9,5))\n",
    "sns.heatmap(corrs4)\n",
    "plt.show()\n",
    "\n",
    "plt.figure(figsize=(9,5))\n",
    "sns.heatmap(corrs5)\n",
    "plt.show()\n"
   ]
  },
  {
   "cell_type": "code",
   "execution_count": null,
   "id": "a9bcf2ca",
   "metadata": {},
   "outputs": [],
   "source": [
    "# Breakdown of Urban vs Rural \n",
    "plt.figure(figsize=(30,10))\n",
    "\n",
    "plt.subplot(1,2,1)\n",
    "plt.title('Urban', fontsize=32)\n",
    "sns.heatmap(corrs4,  cbar=True, linecolor=\"k\", linewidths=1)\n",
    " \n",
    "plt.subplot(1,2,2) \n",
    "plt.title('Rural', fontsize=32)\n",
    "sns.heatmap(corrs5,  cbar=True, linecolor=\"k\", linewidths=1) \n",
    "\n",
    "plt.savefig(\"incomevsRuralheatmap.png\")\n",
    "plt.show()"
   ]
  },
  {
   "cell_type": "code",
   "execution_count": null,
   "id": "85e33785",
   "metadata": {},
   "outputs": [],
   "source": [
    "plt.figure(figsize=(18,12))\n",
    "sns.heatmap(corrs4)\n",
    "plt.savefig(\"Urban_incomevsrate_map.png\")\n",
    "plt.show()"
   ]
  },
  {
   "cell_type": "code",
   "execution_count": null,
   "id": "6f582bb2",
   "metadata": {},
   "outputs": [],
   "source": []
  },
  {
   "cell_type": "markdown",
   "id": "9c517d38",
   "metadata": {},
   "source": [
    "## Benchmark for Correlations"
   ]
  },
  {
   "cell_type": "code",
   "execution_count": null,
   "id": "92a3a4ab",
   "metadata": {},
   "outputs": [],
   "source": [
    "feature = clean_tx2[[\"Poverty\"]]\n",
    "target = clean_tx2[\"Income\"]\n",
    "    \n",
    "# STATSMODELS\n",
    "X = sm.add_constant(feature)\n",
    "Y = target\n",
    "\n",
    "model = sm.OLS(Y,X)\n",
    "results = model.fit()\n",
    "results.summary()"
   ]
  },
  {
   "cell_type": "code",
   "execution_count": null,
   "id": "6ebd0f76",
   "metadata": {},
   "outputs": [],
   "source": [
    "# Add the linear regression equation and line to plot\n",
    "x_values = clean_tx2[\"Poverty\"]\n",
    "y_values = clean_tx2[\"Income\"]\n",
    "\n",
    "(slope, intercept, rvalue, pvalue, stderr) = linregress(x_values, y_values)\n",
    "\n",
    "regress_values = x_values * slope + intercept\n",
    "line_eq = \"y = \" + str(round(slope,2)) + \"x + \" + str(round(intercept,2))\n",
    "plt.figure(figsize = (12,8))\n",
    "plt.scatter(x_values,y_values)\n",
    "plt.plot(x_values,regress_values,\"r-\")\n",
    "plt.annotate(line_eq,(15,30000),fontsize=18,color=\"red\")\n",
    "plt.xlabel('Poverty')\n",
    "plt.ylabel('Income')\n",
    "plt.show()"
   ]
  },
  {
   "cell_type": "markdown",
   "id": "150a9c36",
   "metadata": {},
   "source": [
    "## Regressions for connected correlations"
   ]
  },
  {
   "cell_type": "code",
   "execution_count": null,
   "id": "53a2ba0d",
   "metadata": {},
   "outputs": [],
   "source": [
    "feature2 = urban_cleantx_df[[\"Income\"]]\n",
    "target2 = urban_cleantx_df[\"airbnb_rate_mean\"]\n",
    "    \n",
    "# STATSMODELS\n",
    "X = sm.add_constant(feature2)\n",
    "Y = target2\n",
    "\n",
    "model = sm.OLS(Y,X)\n",
    "results2 = model.fit()\n",
    "results2.summary()"
   ]
  },
  {
   "cell_type": "code",
   "execution_count": null,
   "id": "0ca149d6",
   "metadata": {},
   "outputs": [],
   "source": [
    "plt.rc('figure', figsize=(12, 7))\n",
    "#plt.text(0.01, 0.05, str(model.summary()), {'fontsize': 12}) old approach\n",
    "plt.text(0.01, 0.05, str(results2.summary()), {'fontsize': 12}, fontproperties = 'monospace') # approach improved by OP -> monospace!\n",
    "plt.axis('off')\n",
    "plt.tight_layout()\n",
    "plt.savefig('ols_incomevsrate_urban.png')"
   ]
  },
  {
   "cell_type": "code",
   "execution_count": null,
   "id": "1040a748",
   "metadata": {},
   "outputs": [],
   "source": [
    "# Add the linear regression equation and line to plot\n",
    "x_values = urban_cleantx_df[\"Income\"] \n",
    "y_values = urban_cleantx_df[\"airbnb_rate_mean\"]\n",
    "\n",
    "(slope, intercept, rvalue, pvalue, stderr) = linregress(x_values, y_values)\n",
    "\n",
    "regress_values = x_values * slope + intercept\n",
    "line_eq = \"y = \" + str(round(slope,2)) + \"x + \" + str(round(intercept,2))\n",
    "plt.scatter(x_values,y_values)\n",
    "plt.plot(x_values,regress_values,\"r-\")\n",
    "plt.annotate(line_eq,(50000,50),fontsize=18,color=\"red\")\n",
    "plt.xlabel('Income')\n",
    "plt.ylabel('Average Rate per Night')\n",
    "plt.savefig(\"Urban_income_rate_correlation.png\")\n",
    "plt.show()"
   ]
  },
  {
   "cell_type": "code",
   "execution_count": null,
   "id": "25e4bb03",
   "metadata": {},
   "outputs": [],
   "source": [
    "# SCIKIT_LEARN\n",
    "\n",
    "reg = LinearRegression()\n",
    "reg.fit(np.array(feature2), np.array(target2))\n",
    "\n",
    "print(reg.coef_)\n",
    "print(reg.intercept_)\n",
    "\n",
    "print(reg.score(np.array(feature2), np.array(target2)))\n",
    "reg.predict([[1000000]])"
   ]
  },
  {
   "cell_type": "code",
   "execution_count": null,
   "id": "7386ee35",
   "metadata": {},
   "outputs": [],
   "source": [
    "feature3 = urban_cleantx_df[[\"Income\"]]\n",
    "target3 = urban_cleantx_df[\"airbnb_beds_mean\"]\n",
    "    \n",
    "# STATSMODELS\n",
    "X = sm.add_constant(feature3)\n",
    "Y = target3\n",
    "\n",
    "model = sm.OLS(Y,X)\n",
    "results3 = model.fit()\n",
    "results3.summary()"
   ]
  },
  {
   "cell_type": "code",
   "execution_count": null,
   "id": "c1efb7d2",
   "metadata": {},
   "outputs": [],
   "source": [
    "x_values = urban_cleantx_df[\"Income\"] \n",
    "y_values = urban_cleantx_df[\"airbnb_beds_mean\"]\n",
    "\n",
    "(slope, intercept, rvalue, pvalue, stderr) = linregress(x_values, y_values)\n",
    "\n",
    "regress_values = x_values * slope + intercept\n",
    "line_eq = \"y = \" + str(round(slope,2)) + \"x + \" + str(round(intercept,2))\n",
    "plt.scatter(x_values,y_values)\n",
    "plt.plot(x_values,regress_values,\"r-\")\n",
    "plt.annotate(line_eq,(50000,1),fontsize=18,color=\"red\")\n",
    "plt.xlabel('Income')\n",
    "plt.ylabel('Average number of beds per Night')\n",
    "plt.savefig(\"Urban_income_beds_correlation.png\")\n",
    "plt.show()"
   ]
  },
  {
   "cell_type": "code",
   "execution_count": null,
   "id": "e2be141b",
   "metadata": {},
   "outputs": [],
   "source": [
    "feature4 = rural_cleantx_df[[\"TotalPop\"]]\n",
    "target4 = rural_cleantx_df[\"airbnb_rate_mean\"]\n",
    "    \n",
    "# STATSMODELS\n",
    "X = sm.add_constant(feature4)\n",
    "Y = target4\n",
    "\n",
    "model = sm.OLS(Y,X)\n",
    "results4 = model.fit()\n",
    "results4.summary()"
   ]
  },
  {
   "cell_type": "code",
   "execution_count": null,
   "id": "0173942b",
   "metadata": {},
   "outputs": [],
   "source": [
    "plt.rc('figure', figsize=(12, 7))\n",
    "#plt.text(0.01, 0.05, str(model.summary()), {'fontsize': 12}) old approach\n",
    "plt.text(0.01, 0.05, str(results4.summary()), {'fontsize': 12}, fontproperties = 'monospace') # approach improved by OP -> monospace!\n",
    "plt.axis('off')\n",
    "plt.tight_layout()\n",
    "plt.savefig('ols_popvsrate_rural.png')"
   ]
  },
  {
   "cell_type": "code",
   "execution_count": null,
   "id": "8bb9fb8d",
   "metadata": {},
   "outputs": [],
   "source": [
    "x_values = rural_cleantx_df[\"TotalPop\"] \n",
    "y_values = rural_cleantx_df[\"airbnb_rate_mean\"]\n",
    "\n",
    "(slope, intercept, rvalue, pvalue, stderr) = linregress(x_values, y_values)\n",
    "\n",
    "regress_values = x_values * slope + intercept\n",
    "line_eq = \"y = \" + str(round(slope,2)) + \"x + \" + str(round(intercept,2))\n",
    "plt.scatter(x_values,y_values)\n",
    "plt.plot(x_values,regress_values,\"r-\")\n",
    "plt.annotate(line_eq,(30000,50),fontsize=18,color=\"red\")\n",
    "plt.xlabel('Population')\n",
    "plt.ylabel('Average rate per Night')\n",
    "plt.savefig(\"rural_pop_rate_correlation.png\")\n",
    "plt.show()"
   ]
  },
  {
   "cell_type": "code",
   "execution_count": null,
   "id": "8cc2ab1f",
   "metadata": {},
   "outputs": [],
   "source": [
    "feature5 = rural_cleantx_df[[\"TotalPop\"]]\n",
    "target5 = rural_cleantx_df[\"airbnb_beds_mean\"]\n",
    "    \n",
    "# STATSMODELS\n",
    "X = sm.add_constant(feature4)\n",
    "Y = target5\n",
    "\n",
    "model = sm.OLS(Y,X)\n",
    "results5 = model.fit()\n",
    "results5.summary()"
   ]
  },
  {
   "cell_type": "code",
   "execution_count": null,
   "id": "cec36145",
   "metadata": {},
   "outputs": [],
   "source": [
    "x_values = rural_cleantx_df[\"TotalPop\"] \n",
    "y_values = rural_cleantx_df[\"airbnb_beds_mean\"]\n",
    "\n",
    "(slope, intercept, rvalue, pvalue, stderr) = linregress(x_values, y_values)\n",
    "\n",
    "regress_values = x_values * slope + intercept\n",
    "line_eq = \"y = \" + str(round(slope,2)) + \"x + \" + str(round(intercept,2))\n",
    "plt.scatter(x_values,y_values)\n",
    "plt.plot(x_values,regress_values,\"r-\")\n",
    "plt.annotate(line_eq,(30000,0.5),fontsize=18,color=\"red\")\n",
    "plt.xlabel('Population')\n",
    "plt.ylabel('Average Beds per Night')\n",
    "plt.savefig(\"rural_pop_beds_correlation.png\")\n",
    "plt.show()"
   ]
  },
  {
   "cell_type": "markdown",
   "id": "9e5c43b5",
   "metadata": {},
   "source": [
    "## Poverty and Income effects Urban vs Rural\n"
   ]
  },
  {
   "cell_type": "code",
   "execution_count": null,
   "id": "21019d6a",
   "metadata": {},
   "outputs": [],
   "source": [
    "feature6 = urban_cleantx_df[[\"Poverty\"]]\n",
    "target6 = urban_cleantx_df[\"Income\"]\n",
    "    \n",
    "# STATSMODELS\n",
    "X = sm.add_constant(feature6)\n",
    "Y = target6\n",
    "\n",
    "model = sm.OLS(Y,X)\n",
    "results6 = model.fit()\n",
    "results6.summary()"
   ]
  },
  {
   "cell_type": "code",
   "execution_count": null,
   "id": "f7e13321",
   "metadata": {},
   "outputs": [],
   "source": [
    "x_values = urban_cleantx_df[\"Poverty\"] \n",
    "y_values = urban_cleantx_df[\"Income\"]\n",
    "\n",
    "(slope, intercept, rvalue, pvalue, stderr) = linregress(x_values, y_values)\n",
    "\n",
    "regress_values = x_values * slope + intercept\n",
    "line_eq = \"y = \" + str(round(slope,2)) + \"x + \" + str(round(intercept,2))\n",
    "plt.scatter(x_values,y_values)\n",
    "plt.plot(x_values,regress_values,\"r-\")\n",
    "plt.annotate(line_eq,(20,50000),fontsize=18,color=\"red\")\n",
    "plt.xlabel('Poverty')\n",
    "plt.ylabel('Income')\n",
    "plt.savefig(\"povertyvsincome_urban.png\")\n",
    "plt.show()"
   ]
  },
  {
   "cell_type": "code",
   "execution_count": null,
   "id": "939d888c",
   "metadata": {},
   "outputs": [],
   "source": [
    "feature7 = rural_cleantx_df[[\"Poverty\"]]\n",
    "target7 = rural_cleantx_df[\"Income\"]\n",
    "    \n",
    "# STATSMODELS\n",
    "X = sm.add_constant(feature7)\n",
    "Y = target7\n",
    "\n",
    "model = sm.OLS(Y,X)\n",
    "results7 = model.fit()\n",
    "results7.summary()"
   ]
  },
  {
   "cell_type": "code",
   "execution_count": null,
   "id": "4c6e3af8",
   "metadata": {},
   "outputs": [],
   "source": [
    "x_values = rural_cleantx_df[\"Poverty\"] \n",
    "y_values = rural_cleantx_df[\"Income\"]\n",
    "\n",
    "(slope, intercept, rvalue, pvalue, stderr) = linregress(x_values, y_values)\n",
    "\n",
    "regress_values = x_values * slope + intercept\n",
    "line_eq = \"y = \" + str(round(slope,2)) + \"x + \" + str(round(intercept,2))\n",
    "plt.scatter(x_values,y_values)\n",
    "plt.plot(x_values,regress_values,\"r-\")\n",
    "plt.annotate(line_eq,(20,20000),fontsize=18,color=\"red\")\n",
    "plt.xlabel('Poverty')\n",
    "plt.ylabel('Income')\n",
    "plt.savefig(\"povertyvsincome_rural.png\")\n",
    "plt.show()"
   ]
  },
  {
   "cell_type": "markdown",
   "id": "debb92ea",
   "metadata": {},
   "source": [
    "# Breakdown of top urban areas with predictions of rentals through 2022"
   ]
  },
  {
   "cell_type": "code",
   "execution_count": null,
   "id": "eda5fcf2",
   "metadata": {},
   "outputs": [],
   "source": [
    "harris_df = clean_tx2.loc[clean_tx2.counties == \"Harris County\"]\n",
    "travis_df = clean_tx2.loc[clean_tx2.counties == \"Travis County\"]\n",
    "tarrant_df = clean_tx2.loc[clean_tx2.counties == \"Tarrant County\"]\n",
    "dallas_df = clean_tx2.loc[clean_tx2.counties == \"Dallas County\"]\n",
    "bexar_df = clean_tx2.loc[clean_tx2.counties == \"Bexar County\"]"
   ]
  },
  {
   "cell_type": "code",
   "execution_count": null,
   "id": "e608b9eb",
   "metadata": {},
   "outputs": [],
   "source": [
    "results_u1 = harris_df.append(travis_df)\n",
    "results_u2 = results_u1.append(tarrant_df)\n",
    "results_u3 = results_u2.append(dallas_df)\n",
    "urban_top = results_u3.append(bexar_df)\n",
    "\n",
    "urban_top"
   ]
  },
  {
   "cell_type": "code",
   "execution_count": 234,
   "id": "7ce284cc",
   "metadata": {},
   "outputs": [
    {
     "name": "stdout",
     "output_type": "stream",
     "text": [
      "<class 'pandas.core.frame.DataFrame'>\n",
      "Int64Index: 7760 entries, 0 to 6272\n",
      "Data columns (total 14 columns):\n",
      " #   Column                  Non-Null Count  Dtype   \n",
      "---  ------                  --------------  -----   \n",
      " 0   city                    7760 non-null   object  \n",
      " 1   year                    7760 non-null   int64   \n",
      " 2   Date_Quarter            7760 non-null   object  \n",
      " 3   bedrooms_count          7760 non-null   object  \n",
      " 4   average_rate_per_night  7760 non-null   int32   \n",
      " 5   latitude                7760 non-null   float64 \n",
      " 6   longitude               7760 non-null   float64 \n",
      " 7   counties                7760 non-null   object  \n",
      " 8   zipcodes                7702 non-null   object  \n",
      " 9   bedrooms                7760 non-null   int64   \n",
      " 10  TotalPop                7760 non-null   int64   \n",
      " 11  Income                  7760 non-null   int64   \n",
      " 12  Poverty                 7760 non-null   float64 \n",
      " 13  Urban_Rural             7760 non-null   category\n",
      "dtypes: category(1), float64(3), int32(1), int64(4), object(5)\n",
      "memory usage: 826.1+ KB\n"
     ]
    }
   ],
   "source": [
    "urban_top.info()"
   ]
  },
  {
   "cell_type": "code",
   "execution_count": null,
   "id": "730f27bb",
   "metadata": {},
   "outputs": [],
   "source": [
    "urban_year = urban_top.groupby('year')['city'].count().reset_index()\n",
    "\n",
    "urban_year"
   ]
  },
  {
   "cell_type": "code",
   "execution_count": null,
   "id": "ea8f1743",
   "metadata": {},
   "outputs": [],
   "source": [
    "urban_top.corr()"
   ]
  },
  {
   "cell_type": "code",
   "execution_count": null,
   "id": "193b6b32",
   "metadata": {},
   "outputs": [],
   "source": [
    "urban_year.corr()"
   ]
  },
  {
   "cell_type": "code",
   "execution_count": null,
   "id": "eb6e2acc",
   "metadata": {},
   "outputs": [],
   "source": [
    "plt.figure(figsize = (15,8))\n",
    "g=sns.lineplot(x='year', y=\"city\", data=urban_year, color=\"black\", linewidth=5,)\n",
    "g.yaxis.grid(False) # Hide the horizontal gridlines\n",
    "g.xaxis.grid(True) # Show the vertical gridlines\n",
    "plt.title(\"Urban - Number of Rentals per Year\", size=30)\n",
    "plt.xlabel(\"Year\", size=20)\n",
    "plt.ylabel(\"Rentals\", size=20)\n",
    "g.xaxis.set_major_locator(ticker.MultipleLocator(1))\n",
    "g.xaxis.set_major_formatter(ticker.ScalarFormatter())"
   ]
  },
  {
   "cell_type": "code",
   "execution_count": 232,
   "id": "8e8ed206",
   "metadata": {},
   "outputs": [
    {
     "data": {
      "text/html": [
       "<div>\n",
       "<style scoped>\n",
       "    .dataframe tbody tr th:only-of-type {\n",
       "        vertical-align: middle;\n",
       "    }\n",
       "\n",
       "    .dataframe tbody tr th {\n",
       "        vertical-align: top;\n",
       "    }\n",
       "\n",
       "    .dataframe thead th {\n",
       "        text-align: right;\n",
       "    }\n",
       "</style>\n",
       "<table border=\"1\" class=\"dataframe\">\n",
       "  <thead>\n",
       "    <tr style=\"text-align: right;\">\n",
       "      <th></th>\n",
       "      <th>year</th>\n",
       "      <th>city</th>\n",
       "    </tr>\n",
       "  </thead>\n",
       "  <tbody>\n",
       "    <tr>\n",
       "      <th>0</th>\n",
       "      <td>2013</td>\n",
       "      <td>713</td>\n",
       "    </tr>\n",
       "    <tr>\n",
       "      <th>1</th>\n",
       "      <td>2014</td>\n",
       "      <td>1165</td>\n",
       "    </tr>\n",
       "    <tr>\n",
       "      <th>2</th>\n",
       "      <td>2015</td>\n",
       "      <td>1973</td>\n",
       "    </tr>\n",
       "    <tr>\n",
       "      <th>3</th>\n",
       "      <td>2016</td>\n",
       "      <td>2752</td>\n",
       "    </tr>\n",
       "    <tr>\n",
       "      <th>4</th>\n",
       "      <td>2017</td>\n",
       "      <td>1157</td>\n",
       "    </tr>\n",
       "  </tbody>\n",
       "</table>\n",
       "</div>"
      ],
      "text/plain": [
       "   year  city\n",
       "0  2013   713\n",
       "1  2014  1165\n",
       "2  2015  1973\n",
       "3  2016  2752\n",
       "4  2017  1157"
      ]
     },
     "execution_count": 232,
     "metadata": {},
     "output_type": "execute_result"
    }
   ],
   "source": [
    "urban_year"
   ]
  },
  {
   "cell_type": "markdown",
   "id": "c9e984b1",
   "metadata": {},
   "source": [
    "## Predictions for Number of Rentals"
   ]
  },
  {
   "cell_type": "code",
   "execution_count": null,
   "id": "222db6f0",
   "metadata": {},
   "outputs": [],
   "source": [
    "feature9 = urban_year[[\"year\"]]\n",
    "target9 = urban_year[\"city\"]"
   ]
  },
  {
   "cell_type": "code",
   "execution_count": null,
   "id": "99f0295d",
   "metadata": {},
   "outputs": [],
   "source": [
    "reg = LinearRegression()\n",
    "reg.fit(np.array(feature9), np.array(target9))\n",
    "reg.coef_"
   ]
  },
  {
   "cell_type": "code",
   "execution_count": null,
   "id": "232905c0",
   "metadata": {},
   "outputs": [],
   "source": [
    "reg.score(np.array(feature9), np.array(target9))"
   ]
  },
  {
   "cell_type": "code",
   "execution_count": 257,
   "id": "d987861a",
   "metadata": {},
   "outputs": [
    {
     "name": "stdout",
     "output_type": "stream",
     "text": [
      "[2047.]\n",
      "[2294.5]\n",
      "[2542.]\n",
      "[2789.5]\n",
      "[3037.]\n",
      "[3284.5]\n"
     ]
    }
   ],
   "source": [
    "print(reg.predict([[2017]]))\n",
    "print(reg.predict([[2018]]))\n",
    "print(reg.predict([[2019]]))\n",
    "print(reg.predict([[2020]]))\n",
    "print(reg.predict([[2021]]))\n",
    "print(reg.predict([[2022]]))"
   ]
  },
  {
   "cell_type": "markdown",
   "id": "5840a201",
   "metadata": {},
   "source": [
    "# Live Demo for Urban Rentals"
   ]
  },
  {
   "cell_type": "code",
   "execution_count": 258,
   "id": "c8264392",
   "metadata": {},
   "outputs": [
    {
     "data": {
      "text/plain": [
       "array([809.5])"
      ]
     },
     "execution_count": 258,
     "metadata": {},
     "output_type": "execute_result"
    }
   ],
   "source": [
    "# Demo for Urban rentals\n",
    "reg.predict([[2012]])"
   ]
  },
  {
   "cell_type": "markdown",
   "id": "18056b0b",
   "metadata": {},
   "source": [
    "# "
   ]
  },
  {
   "cell_type": "code",
   "execution_count": null,
   "id": "c8a2b70e",
   "metadata": {},
   "outputs": [],
   "source": [
    "predicted = reg.predict(feature9)\n",
    "actual = target9"
   ]
  },
  {
   "cell_type": "code",
   "execution_count": null,
   "id": "8f00ebcf",
   "metadata": {},
   "outputs": [],
   "source": [
    "plt.figure(figsize=(10,6))\n",
    "\n",
    "plt.scatter(predicted, actual)\n",
    "\n",
    "plt.xlabel(\"Predicted\")\n",
    "plt.ylabel(\"Actual\")\n",
    "\n",
    "plt.plot(urban_year.city, urban_year.city)\n",
    "\n",
    "plt.show()"
   ]
  },
  {
   "cell_type": "code",
   "execution_count": null,
   "id": "b8be2349",
   "metadata": {},
   "outputs": [],
   "source": []
  },
  {
   "cell_type": "code",
   "execution_count": null,
   "id": "d8f0b58e",
   "metadata": {},
   "outputs": [],
   "source": [
    "# Rural data\n",
    "rural_df = clean_tx2.loc[clean_tx2.Urban_Rural == \"Rural\"]\n",
    "rural_df"
   ]
  },
  {
   "cell_type": "code",
   "execution_count": null,
   "id": "43881bd9",
   "metadata": {},
   "outputs": [],
   "source": [
    "# Count of Rural counties\n",
    "rural_county = rural_df.groupby('counties')['city'].count().reset_index().sort_values(by='city', ascending=False).head(5)\n",
    "\n",
    "rural_county"
   ]
  },
  {
   "cell_type": "code",
   "execution_count": null,
   "id": "b59fd134",
   "metadata": {
    "scrolled": true
   },
   "outputs": [],
   "source": [
    "llano_df = clean_tx2.loc[clean_tx2.counties == \"Llano County\"]\n",
    "burnet_df = clean_tx2.loc[clean_tx2.counties == \"Burnet County\"]\n",
    "aransas_df = clean_tx2.loc[clean_tx2.counties == \"Aransas County\"]\n",
    "bandera_df = clean_tx2.loc[clean_tx2.counties == \"Bandera County\"]\n",
    "kendall_df = clean_tx2.loc[clean_tx2.counties == \"Kendall County\"]"
   ]
  },
  {
   "cell_type": "code",
   "execution_count": null,
   "id": "70a336f9",
   "metadata": {},
   "outputs": [],
   "source": [
    "results1 = llano_df.append(burnet_df)\n",
    "results2 = results1.append(aransas_df)\n",
    "results3 = results2.append(bandera_df)\n",
    "rural_top = results3.append(kendall_df)\n",
    "\n",
    "rural_top"
   ]
  },
  {
   "cell_type": "code",
   "execution_count": 233,
   "id": "5d3153e4",
   "metadata": {},
   "outputs": [
    {
     "data": {
      "text/html": [
       "<div>\n",
       "<style scoped>\n",
       "    .dataframe tbody tr th:only-of-type {\n",
       "        vertical-align: middle;\n",
       "    }\n",
       "\n",
       "    .dataframe tbody tr th {\n",
       "        vertical-align: top;\n",
       "    }\n",
       "\n",
       "    .dataframe thead th {\n",
       "        text-align: right;\n",
       "    }\n",
       "</style>\n",
       "<table border=\"1\" class=\"dataframe\">\n",
       "  <thead>\n",
       "    <tr style=\"text-align: right;\">\n",
       "      <th></th>\n",
       "      <th>year</th>\n",
       "      <th>city</th>\n",
       "    </tr>\n",
       "  </thead>\n",
       "  <tbody>\n",
       "    <tr>\n",
       "      <th>0</th>\n",
       "      <td>2013</td>\n",
       "      <td>50</td>\n",
       "    </tr>\n",
       "    <tr>\n",
       "      <th>1</th>\n",
       "      <td>2014</td>\n",
       "      <td>220</td>\n",
       "    </tr>\n",
       "    <tr>\n",
       "      <th>2</th>\n",
       "      <td>2015</td>\n",
       "      <td>256</td>\n",
       "    </tr>\n",
       "    <tr>\n",
       "      <th>3</th>\n",
       "      <td>2016</td>\n",
       "      <td>297</td>\n",
       "    </tr>\n",
       "    <tr>\n",
       "      <th>4</th>\n",
       "      <td>2017</td>\n",
       "      <td>244</td>\n",
       "    </tr>\n",
       "  </tbody>\n",
       "</table>\n",
       "</div>"
      ],
      "text/plain": [
       "   year  city\n",
       "0  2013    50\n",
       "1  2014   220\n",
       "2  2015   256\n",
       "3  2016   297\n",
       "4  2017   244"
      ]
     },
     "execution_count": 233,
     "metadata": {},
     "output_type": "execute_result"
    }
   ],
   "source": [
    "rural_year = rural_top.groupby('year')['city'].count().reset_index()\n",
    "\n",
    "rural_year"
   ]
  },
  {
   "cell_type": "code",
   "execution_count": null,
   "id": "e2f91809",
   "metadata": {},
   "outputs": [],
   "source": [
    "feature10 = rural_year[[\"year\"]]\n",
    "target10 = rural_year[\"city\"]"
   ]
  },
  {
   "cell_type": "code",
   "execution_count": null,
   "id": "e005ff55",
   "metadata": {},
   "outputs": [],
   "source": [
    "reg2 = LinearRegression()\n",
    "reg2.fit(np.array(feature10), np.array(target10))\n",
    "reg2.coef_"
   ]
  },
  {
   "cell_type": "code",
   "execution_count": 259,
   "id": "b6dbf438",
   "metadata": {
    "scrolled": true
   },
   "outputs": [
    {
     "name": "stdout",
     "output_type": "stream",
     "text": [
      "[306.4]\n",
      "[352.9]\n",
      "[352.9]\n",
      "[445.9]\n",
      "[492.4]\n",
      "[538.9]\n"
     ]
    }
   ],
   "source": [
    "print(reg2.predict([[2017]]))\n",
    "print(reg2.predict([[2018]]))\n",
    "print(reg2.predict([[2018]]))\n",
    "print(reg2.predict([[2020]]))\n",
    "print(reg2.predict([[2021]]))\n",
    "print(reg2.predict([[2022]]))"
   ]
  },
  {
   "cell_type": "markdown",
   "id": "4b6cc37a",
   "metadata": {},
   "source": [
    "# Live Demo for Rural"
   ]
  },
  {
   "cell_type": "code",
   "execution_count": null,
   "id": "d1dc54e4",
   "metadata": {},
   "outputs": [],
   "source": [
    "print(reg2.predict([[*]]))"
   ]
  },
  {
   "cell_type": "markdown",
   "id": "c0aa609e",
   "metadata": {},
   "source": [
    "# "
   ]
  }
 ],
 "metadata": {
  "kernelspec": {
   "display_name": "Python 3",
   "language": "python",
   "name": "python3"
  },
  "language_info": {
   "codemirror_mode": {
    "name": "ipython",
    "version": 3
   },
   "file_extension": ".py",
   "mimetype": "text/x-python",
   "name": "python",
   "nbconvert_exporter": "python",
   "pygments_lexer": "ipython3",
   "version": "3.8.8"
  }
 },
 "nbformat": 4,
 "nbformat_minor": 5
}
