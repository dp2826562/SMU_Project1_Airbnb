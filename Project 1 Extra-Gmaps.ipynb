{
 "cells": [
  {
   "cell_type": "code",
   "execution_count": 1,
   "id": "cf5185f4",
   "metadata": {},
   "outputs": [
    {
     "ename": "ImportError",
     "evalue": "cannot import name 'api_key' from 'config' (/Users/dianamelendez/opt/anaconda3/lib/python3.8/site-packages/config/__init__.py)",
     "output_type": "error",
     "traceback": [
      "\u001b[0;31m---------------------------------------------------------------------------\u001b[0m",
      "\u001b[0;31mImportError\u001b[0m                               Traceback (most recent call last)",
      "\u001b[0;32m<ipython-input-1-5ae2bc6a6f12>\u001b[0m in \u001b[0;36m<module>\u001b[0;34m\u001b[0m\n\u001b[1;32m     17\u001b[0m \u001b[0;31m# Census API Key\u001b[0m\u001b[0;34m\u001b[0m\u001b[0;34m\u001b[0m\u001b[0;34m\u001b[0m\u001b[0m\n\u001b[1;32m     18\u001b[0m \u001b[0;32mfrom\u001b[0m \u001b[0mcensus\u001b[0m \u001b[0;32mimport\u001b[0m \u001b[0mCensus\u001b[0m\u001b[0;34m\u001b[0m\u001b[0;34m\u001b[0m\u001b[0m\n\u001b[0;32m---> 19\u001b[0;31m \u001b[0;32mfrom\u001b[0m \u001b[0mconfig\u001b[0m \u001b[0;32mimport\u001b[0m \u001b[0mapi_key\u001b[0m\u001b[0;34m,\u001b[0m \u001b[0mgkey\u001b[0m\u001b[0;34m\u001b[0m\u001b[0;34m\u001b[0m\u001b[0m\n\u001b[0m\u001b[1;32m     20\u001b[0m \u001b[0mc\u001b[0m \u001b[0;34m=\u001b[0m \u001b[0mCensus\u001b[0m\u001b[0;34m(\u001b[0m\u001b[0mapi_key\u001b[0m\u001b[0;34m,\u001b[0m \u001b[0myear\u001b[0m\u001b[0;34m=\u001b[0m\u001b[0;36m2017\u001b[0m\u001b[0;34m)\u001b[0m\u001b[0;34m\u001b[0m\u001b[0;34m\u001b[0m\u001b[0m\n",
      "\u001b[0;31mImportError\u001b[0m: cannot import name 'api_key' from 'config' (/Users/dianamelendez/opt/anaconda3/lib/python3.8/site-packages/config/__init__.py)"
     ]
    }
   ],
   "source": [
    "# Dependencies and Setup\n",
    "import matplotlib.pyplot as plt\n",
    "import pandas as pd\n",
    "import scipy.stats as st\n",
    "import numpy as np\n",
    "import gmaps \n",
    "\n",
    "# linear modelling\n",
    "import statsmodels.api as sm\n",
    "from scipy.stats import linregress\n",
    "from sklearn.linear_model import LinearRegression, Ridge, Lasso\n",
    "from sklearn.ensemble import RandomForestRegressor\n",
    "# metrics\n",
    "from sklearn.metrics import mean_squared_error\n",
    "import seaborn as sns\n",
    "\n",
    "# Census API Key\n",
    "from census import Census\n",
    "from config import api_key, gkey\n",
    "c = Census(api_key, year=2017)\n"
   ]
  },
  {
   "cell_type": "code",
   "execution_count": null,
   "id": "8e18f6b7",
   "metadata": {},
   "outputs": [],
   "source": [
    "df=pd.read_csv(\"Airbnb_Texas_Rentals.csv\")\n",
    "df"
   ]
  },
  {
   "cell_type": "code",
   "execution_count": null,
   "id": "6d44246e",
   "metadata": {},
   "outputs": [],
   "source": [
    "df.info()"
   ]
  },
  {
   "cell_type": "code",
   "execution_count": null,
   "id": "0756e5e1",
   "metadata": {},
   "outputs": [],
   "source": [
    "df.count()"
   ]
  },
  {
   "cell_type": "code",
   "execution_count": null,
   "id": "858b01b3",
   "metadata": {},
   "outputs": [],
   "source": [
    "clean_df = df.dropna()\n",
    "clean_df.info()"
   ]
  },
  {
   "cell_type": "code",
   "execution_count": null,
   "id": "78b62f68",
   "metadata": {},
   "outputs": [],
   "source": [
    "# summary data frame\n",
    "clean_df2 = clean_df.loc[:, [\"city\", \"date_of_listing\", \"bedrooms_count\", \"average_rate_per_night\", \"latitude\", \"longitude\"]]\n",
    "clean_df2"
   ]
  },
  {
   "cell_type": "code",
   "execution_count": null,
   "id": "bc5febaf",
   "metadata": {},
   "outputs": [],
   "source": [
    "clean_df2.info()"
   ]
  },
  {
   "cell_type": "code",
   "execution_count": null,
   "id": "786fbade",
   "metadata": {},
   "outputs": [],
   "source": [
    "clean_df2[\"date_of_listing\"]=pd.to_datetime(clean_df2[\"date_of_listing\"])\n",
    "\n",
    "clean_df2.info()"
   ]
  },
  {
   "cell_type": "code",
   "execution_count": null,
   "id": "7889afd9",
   "metadata": {},
   "outputs": [],
   "source": [
    "clean_df2[\"year\"]=[x.year for x in clean_df2.date_of_listing]\n",
    "clean_df2.head()"
   ]
  },
  {
   "cell_type": "code",
   "execution_count": null,
   "id": "7c608903",
   "metadata": {},
   "outputs": [],
   "source": [
    "unique_year = clean_df2[\"year\"].nunique()\n",
    "unique_year"
   ]
  },
  {
   "cell_type": "code",
   "execution_count": null,
   "id": "5f52afc3",
   "metadata": {},
   "outputs": [],
   "source": [
    "clean_df2[\"month\"]=[x.month for x in clean_df2.date_of_listing]\n",
    "clean_df2.head()"
   ]
  },
  {
   "cell_type": "code",
   "execution_count": null,
   "id": "c4324325",
   "metadata": {},
   "outputs": [],
   "source": [
    "clean_df2.info()"
   ]
  },
  {
   "cell_type": "code",
   "execution_count": null,
   "id": "5bcb366a",
   "metadata": {},
   "outputs": [],
   "source": [
    "mask1 = clean_df2.loc[clean_df2['year']==2012].index\n",
    "mask2 = clean_df2.loc[clean_df2['year']==2011].index\n",
    "mask3 = clean_df2.loc[clean_df2['year']==2010].index\n",
    "mask4 = clean_df2.loc[clean_df2['year']==2009].index\n",
    "mask5 = clean_df2.loc[clean_df2['year']==2008].index"
   ]
  },
  {
   "cell_type": "code",
   "execution_count": null,
   "id": "f72a9e26",
   "metadata": {},
   "outputs": [],
   "source": [
    "mask1.array"
   ]
  },
  {
   "cell_type": "code",
   "execution_count": null,
   "id": "ab9394fc",
   "metadata": {
    "scrolled": true
   },
   "outputs": [],
   "source": [
    "clean_df3 = clean_df2[~(clean_df2.year.isin([2012, 2011, 2010, 2009, 2008]))].reset_index()\n",
    "clean_df3.head()"
   ]
  },
  {
   "cell_type": "code",
   "execution_count": null,
   "id": "018f3c3f",
   "metadata": {
    "scrolled": true
   },
   "outputs": [],
   "source": [
    "clean_df3.info()"
   ]
  },
  {
   "cell_type": "code",
   "execution_count": null,
   "id": "31bb4556",
   "metadata": {},
   "outputs": [],
   "source": [
    "# Create the bins in which Data will be held\n",
    "# Bins are  12-1-2016, 7-1-2016, 1-1-2018\n",
    "bins = [0, 3, 6, 9, 12]\n",
    "\n",
    "# Create the names for the five bins\n",
    "group_names = [\"First\", \"Second\", \"Third\", \"Fourth\"]"
   ]
  },
  {
   "cell_type": "code",
   "execution_count": null,
   "id": "098215b3",
   "metadata": {},
   "outputs": [],
   "source": [
    "clean_df3[\"Date_Quarter\"] = pd.cut(clean_df3[\"month\"], bins, labels=group_names, include_lowest=True)\n",
    "clean_df3"
   ]
  },
  {
   "cell_type": "code",
   "execution_count": null,
   "id": "bbbb58ce",
   "metadata": {},
   "outputs": [],
   "source": [
    "# summary data frame\n",
    "clean_df4 = clean_df3.loc[:, [\"city\", \"year\", \"Date_Quarter\", \"bedrooms_count\", \"average_rate_per_night\", \"latitude\", \"longitude\"]]\n",
    "clean_df4.head()"
   ]
  },
  {
   "cell_type": "code",
   "execution_count": null,
   "id": "a8256467",
   "metadata": {},
   "outputs": [],
   "source": []
  },
  {
   "cell_type": "code",
   "execution_count": null,
   "id": "4d639d38",
   "metadata": {},
   "outputs": [],
   "source": []
  }
 ],
 "metadata": {
  "kernelspec": {
   "display_name": "Python 3",
   "language": "python",
   "name": "python3"
  },
  "language_info": {
   "codemirror_mode": {
    "name": "ipython",
    "version": 3
   },
   "file_extension": ".py",
   "mimetype": "text/x-python",
   "name": "python",
   "nbconvert_exporter": "python",
   "pygments_lexer": "ipython3",
   "version": "3.8.8"
  }
 },
 "nbformat": 4,
 "nbformat_minor": 5
}
